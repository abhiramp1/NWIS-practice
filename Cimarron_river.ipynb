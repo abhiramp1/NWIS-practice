{
 "cells": [
  {
   "cell_type": "markdown",
   "metadata": {},
   "source": [
    "# National Water Information collection for Cimarron watershed \n",
    "\n",
    "The porpose of this example is tring to download the water information of Cimarron watershed from NWIS website and display the detail information of a selected site (The site of Cimarron River near Ripley, OK).Below figure shows the map location of this site. \n",
    "<img src='site.png' width = '600'>  \n",
    "PS:  \n",
    "  To run this code in your computer, You should download the 'PyHSPF' package from Dr,Lampert's published repositories on Gighub web."
   ]
  },
  {
   "cell_type": "markdown",
   "metadata": {},
   "source": [
    "Below code defines the key Python libraries "
   ]
  },
  {
   "cell_type": "code",
   "execution_count": 35,
   "metadata": {
    "scrolled": true
   },
   "outputs": [],
   "source": [
    "import os,datetime,pickle"
   ]
  },
  {
   "cell_type": "markdown",
   "metadata": {},
   "source": [
    "The following code import the tool of NWIS extractor that existing under the pyhspf package/preprocessing folder."
   ]
  },
  {
   "cell_type": "code",
   "execution_count": 36,
   "metadata": {},
   "outputs": [],
   "source": [
    "from pyhspf.preprocessing import NWISExtractor"
   ]
  },
  {
   "cell_type": "markdown",
   "metadata": {},
   "source": [
    "The 'NWIS' and 'directory' code indicated the location folders for download zip files and input/output working directory. 'HUC8' stands for the 8-digit Hydrological Unit Code(HUC) for Cimarron Watershed (11050003). "
   ]
  },
  {
   "cell_type": "code",
   "execution_count": 37,
   "metadata": {},
   "outputs": [],
   "source": [
    "NWIS = 'NWIS-download'\n",
    "directory = 'data-curves'       \n",
    "HUC8      = '11050003'  "
   ]
  },
  {
   "cell_type": "markdown",
   "metadata": {},
   "source": [
    "The following code indicated all the data path for Cimarron Watershed water information."
   ]
  },
  {
   "cell_type": "code",
   "execution_count": 38,
   "metadata": {},
   "outputs": [],
   "source": [
    "gagepath  = '{}/gagedata'.format(directory)"
   ]
  },
  {
   "cell_type": "markdown",
   "metadata": {},
   "source": [
    "The 'start' 'end' code function set the time period of downloaded data from NWIS website. "
   ]
  },
  {
   "cell_type": "code",
   "execution_count": 39,
   "metadata": {},
   "outputs": [],
   "source": [
    "start = datetime.datetime(1980, 1, 1)      # start date for timeseries\n",
    "end   = datetime.datetime(2020, 1, 1)      # end date for timeseries"
   ]
  },
  {
   "cell_type": "markdown",
   "metadata": {},
   "source": [
    "the following code give an instance of location of the metadata file to the NWIS extractor process. If the indicated 'NWIS' folder was not existed, the process will create a new 'NWIS' folder. "
   ]
  },
  {
   "cell_type": "code",
   "execution_count": 40,
   "metadata": {},
   "outputs": [],
   "source": [
    "nwisextractor = NWISExtractor(NWIS)"
   ]
  },
  {
   "cell_type": "markdown",
   "metadata": {},
   "source": [
    "The following code call the 'extract_HUC8' process under the 'NWISExtractor' class and give it the indicated key values. The process will check and extract gage metadata from donloaded 'NWIS' zip file by using indicated'HUC8' number and save the data into 'data-curves'(directory) folder(if it didn't exist, the process will create a new folder called 'data-curves'(directory)."
   ]
  },
  {
   "cell_type": "code",
   "execution_count": 41,
   "metadata": {},
   "outputs": [
    {
     "name": "stdout",
     "output_type": "stream",
     "text": [
      "NWIS directory NWIS-download exists\n",
      "\n",
      "NWIS source metadata file NWIS-download/USGS_Streamgages-NHD_Locations_Shape.zip is present\n",
      "\n",
      "gage metadata NWIS-download/USGS_Streamgages-NHD_Locations is present\n",
      "\n",
      "gage station file data-curves/gagestations exists\n",
      "\n"
     ]
    }
   ],
   "source": [
    "nwisextractor.extract_HUC8(HUC8, directory)"
   ]
  },
  {
   "cell_type": "markdown",
   "metadata": {},
   "source": [
    "Below code is a if loop that used for check the data files under the created 'data-curves' folder. If the condition didn't conform, the loop will call the 'dwonload_all' process under the 'NWISExtractor' class and plot all the downloaded metadata. "
   ]
  },
  {
   "cell_type": "code",
   "execution_count": 42,
   "metadata": {},
   "outputs": [],
   "source": [
    "if not os.path.isdir(gagepath):\n",
    "    nwisextractor.download_all(start, end, output = gagepath)"
   ]
  },
  {
   "cell_type": "markdown",
   "metadata": {},
   "source": [
    "The following code is trying to download the daily flow and water quality data for one gage by the given USGS NWIS Site ID number. The specific site number could be found on the following URL.\n",
    "URL:https://waterdata.usgs.gov/nwis/inventory?search_station_nm=cimarron&search_station_nm_match_type=beginning&state_cd=ok&format=station_list&group_key=NONE&list_of_search_criteria=state_cd%2Csearch_station_nm  \n",
    "The code will call the 'download_gagedata' process under the 'NWISExtractor' class and check the existing of sepcified metadata."
   ]
  },
  {
   "cell_type": "code",
   "execution_count": 43,
   "metadata": {},
   "outputs": [
    {
     "name": "stdout",
     "output_type": "stream",
     "text": [
      "gage data for 07161450 exist\n",
      "\n"
     ]
    }
   ],
   "source": [
    "picked_gageid    = '07161450'\n",
    "picked_gagedata  = 'Cimarron River near Ripley'\n",
    "nwisextractor.download_gagedata(picked_gageid, start, end, output = picked_gagedata)"
   ]
  },
  {
   "cell_type": "markdown",
   "metadata": {},
   "source": [
    "Below code is trying to print the fundamental labels and the data values of selected site. "
   ]
  },
  {
   "cell_type": "code",
   "execution_count": 44,
   "metadata": {},
   "outputs": [
    {
     "name": "stdout",
     "output_type": "stream",
     "text": [
      "The water flow information for the Cimarron River near Ripley, OK\n",
      "\n",
      "Gage ID:                      07161450\n",
      "Name:                         Cimarron River near Ripley, OK\n",
      "State:                        OK\n",
      "First day of measurement:     19871001\n",
      "Last day of measurement:      20040930\n",
      "Drainage area (square miles): 17979.0\n",
      "Average flow (cfs):           2220.978\n",
      "NWIS url:                     http://waterdata.usgs.gov/nwis/nwisman/?site_no=07161450\n"
     ]
    }
   ],
   "source": [
    "print('The water flow information for the Cimarron River near Ripley, OK')\n",
    "print('')\n",
    "p = '{}/{}'.format(gagepath,picked_gageid) #identify p as the picked_gageid file \n",
    "                                           #under 'data-curves' folder.\n",
    "with open(p, 'rb') as f:      #open p file and ensure the file is 'clean up' \n",
    "                              #after finish the process\n",
    "        \n",
    "    station = pickle.load(f)      #to load pickled data from p file\n",
    "\n",
    "# the following are attributes of the station directly from the database\n",
    "\n",
    "print('Gage ID:                     ', station.gageid)\n",
    "print('Name:                        ', station.name)\n",
    "print('State:                       ', station.state)\n",
    "print('First day of measurement:    ', station.day1)\n",
    "print('Last day of measurement:     ', station.dayn)\n",
    "print('Drainage area (square miles):', station.drain)\n",
    "print('Average flow (cfs):          ', station.ave)\n",
    "print('NWIS url:                    ', station.web)"
   ]
  },
  {
   "cell_type": "markdown",
   "metadata": {},
   "source": [
    "The following code is trying to extract the water flow information of the sepcific setting time period on the selected site. The flowrate of start date and end date are displayed. A mean flowerate of this picked period is also showing. "
   ]
  },
  {
   "cell_type": "code",
   "execution_count": 45,
   "metadata": {},
   "outputs": [
    {
     "name": "stdout",
     "output_type": "stream",
     "text": [
      "Flow on 1993-01-01 (cfs):     1740.0\n",
      "Flow on 1994-01-01 (cfs):     1740.0\n",
      "Mean flow across dates (cfs): 4406.4\n",
      "\n"
     ]
    }
   ],
   "source": [
    "s = datetime.datetime(1993, 1, 1)  # Start date \n",
    "e = datetime.datetime(1994, 1, 1)   # End date\n",
    "\n",
    "# get the time series of daily flow data from the start to end date\n",
    "# if it's available:\n",
    "\n",
    "try: \n",
    "    #call the 'make_timeseries'process under the 'gagestation' class \n",
    "    ts = station.make_timeseries(start = s, end = e)\n",
    "\n",
    "# if the start and end dates are not supplied, the function return the \n",
    "# data for the whole period\n",
    "\n",
    "    startt = s.year, s.month, s.day, ts[0]\n",
    "    print('Flow on {:04d}-{:02d}-{:02d} (cfs):     {}'.format(*startt))\n",
    "    endt = e.year, e.month, e.day, ts[0]\n",
    "    print('Flow on {:04d}-{:02d}-{:02d} (cfs):     {}'.format(*endt))\n",
    "    \n",
    "    # calculate the average flow across the dates specified\n",
    "    ave = sum(ts) / (e - s).days\n",
    "    print('Mean flow across dates (cfs): {:.1f}'.format(ave))\n",
    "\n",
    "except: pass\n",
    "print('')\n",
    "# if the flow values are missing, the function will fill the value for \n",
    "# the data with a \"None\""
   ]
  },
  {
   "cell_type": "markdown",
   "metadata": {},
   "source": [
    "The following code is trying to measure the total suspended soild for the selected site."
   ]
  },
  {
   "cell_type": "code",
   "execution_count": 46,
   "metadata": {},
   "outputs": [
    {
     "name": "stdout",
     "output_type": "stream",
     "text": [
      "no TSS data available for this station\n",
      "\n"
     ]
    }
   ],
   "source": [
    "# the code for total suspended solids is 00530; the following shows how\n",
    "# to get the TSS data for a gage station\n",
    "try:\n",
    "    TSS = station.waterquality['00530']\n",
    "    print('Number of suspended solids measurements:', len(TSS))\n",
    "    print('TSS concentration on {}: {} mg/L'.format(*TSS[0]))\n",
    "except: \n",
    "    print('no TSS data available for this station')    \n",
    "print('')"
   ]
  },
  {
   "cell_type": "markdown",
   "metadata": {},
   "source": [
    "This is the result graphs for the selected site:  \n",
    "<img src='Cimarron River near Ripley.png' width = '800'>"
   ]
  },
  {
   "cell_type": "code",
   "execution_count": null,
   "metadata": {},
   "outputs": [],
   "source": []
  }
 ],
 "metadata": {
  "kernelspec": {
   "display_name": "Python 3",
   "language": "python",
   "name": "python3"
  },
  "language_info": {
   "codemirror_mode": {
    "name": "ipython",
    "version": 3
   },
   "file_extension": ".py",
   "mimetype": "text/x-python",
   "name": "python",
   "nbconvert_exporter": "python",
   "pygments_lexer": "ipython3",
   "version": "3.7.6"
  }
 },
 "nbformat": 4,
 "nbformat_minor": 4
}
